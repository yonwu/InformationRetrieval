{
 "cells": [
  {
   "cell_type": "code",
   "execution_count": 28,
   "metadata": {},
   "outputs": [],
   "source": [
    "    def get_config_from_file(file, lower = False):\n",
    "        with open(file, \"r\") as infile:\n",
    "            sents = infile.read().split(\"\\n\")\n",
    "            if sents[-1] == \"\":\n",
    "                sents = sents[:-1]\n",
    "            if lower:\n",
    "                sents = map(str.lower, sents)\n",
    "        invert_index = {}\n",
    "        for sent in sents:\n",
    "            token = sent.split(\" \")[0]\n",
    "            doc_id = sent.split(\" \")[1]\n",
    "            if token not in invert_index.keys():\n",
    "                invert_index[token] = set([doc_id])\n",
    "            else:\n",
    "                invert_index[token].update([doc_id])\n",
    "        return invert_index\n",
    "            \n",
    "        \n",
    "    "
   ]
  },
  {
   "cell_type": "code",
   "execution_count": 29,
   "metadata": {},
   "outputs": [],
   "source": [
    "file = 'index.txt'"
   ]
  },
  {
   "cell_type": "code",
   "execution_count": 31,
   "metadata": {},
   "outputs": [
    {
     "name": "stdout",
     "output_type": "stream",
     "text": [
      "{'687', '151', '303', '495', '430', '143', '9', '552', '585', '605', '872', '778', '434', '879', '461', '16', '608', '474', '875', '692', '731', '267', '917', '271', '112', '962', '109', '541', '684', '548', '312', '473'}\n"
     ]
    },
    {
     "ename": "KeyError",
     "evalue": "'Every'",
     "output_type": "error",
     "traceback": [
      "\u001b[0;31m---------------------------------------------------------------------------\u001b[0m",
      "\u001b[0;31mKeyError\u001b[0m                                  Traceback (most recent call last)",
      "\u001b[0;32m<ipython-input-31-c9edb75e6a0b>\u001b[0m in \u001b[0;36m<module>\u001b[0;34m\u001b[0m\n\u001b[1;32m      1\u001b[0m \u001b[0mtmp\u001b[0m \u001b[0;34m=\u001b[0m \u001b[0mget_config_from_file\u001b[0m\u001b[0;34m(\u001b[0m\u001b[0mfile\u001b[0m\u001b[0;34m,\u001b[0m \u001b[0;32mTrue\u001b[0m\u001b[0;34m)\u001b[0m\u001b[0;34m\u001b[0m\u001b[0;34m\u001b[0m\u001b[0m\n\u001b[1;32m      2\u001b[0m \u001b[0mprint\u001b[0m\u001b[0;34m(\u001b[0m\u001b[0mtmp\u001b[0m\u001b[0;34m[\u001b[0m\u001b[0;34m'every'\u001b[0m\u001b[0;34m]\u001b[0m\u001b[0;34m)\u001b[0m\u001b[0;34m\u001b[0m\u001b[0;34m\u001b[0m\u001b[0m\n\u001b[0;32m----> 3\u001b[0;31m \u001b[0mprint\u001b[0m\u001b[0;34m(\u001b[0m\u001b[0mtmp\u001b[0m\u001b[0;34m[\u001b[0m\u001b[0;34m'Every'\u001b[0m\u001b[0;34m]\u001b[0m\u001b[0;34m)\u001b[0m\u001b[0;34m\u001b[0m\u001b[0;34m\u001b[0m\u001b[0m\n\u001b[0m",
      "\u001b[0;31mKeyError\u001b[0m: 'Every'"
     ]
    }
   ],
   "source": [
    "tmp = get_config_from_file(file, True)\n",
    "print(tmp['every'])\n",
    "print(tmp['Every'])"
   ]
  },
  {
   "cell_type": "code",
   "execution_count": 10,
   "metadata": {},
   "outputs": [],
   "source": [
    "a = set([])\n",
    "a.update([1,2])\n",
    "a.update([2])"
   ]
  },
  {
   "cell_type": "code",
   "execution_count": 11,
   "metadata": {},
   "outputs": [
    {
     "name": "stdout",
     "output_type": "stream",
     "text": [
      "{1, 2}\n"
     ]
    }
   ],
   "source": [
    "print(a)"
   ]
  },
  {
   "cell_type": "code",
   "execution_count": 33,
   "metadata": {},
   "outputs": [],
   "source": [
    "a = {1,2,3,4,5,6}"
   ]
  },
  {
   "cell_type": "code",
   "execution_count": 36,
   "metadata": {},
   "outputs": [
    {
     "data": {
      "text/plain": [
       "2"
      ]
     },
     "execution_count": 36,
     "metadata": {},
     "output_type": "execute_result"
    }
   ],
   "source": [
    "list(a)[1]"
   ]
  },
  {
   "cell_type": "code",
   "execution_count": 30,
   "metadata": {},
   "outputs": [
    {
     "name": "stdout",
     "output_type": "stream",
     "text": [
      "['72']\n"
     ]
    }
   ],
   "source": [
    "p1= ['553', '268', '72', '581', '385', '582', '223', '494', '564', '996', '532', '431', '224', '554', '111']\n",
    "p2= ['72', '593', '538', '786', '583', '224', '970', '336', '806', '584', '460', '553', '475', '385', '459', '539', '613', '523', '32', '175']\n",
    "\n",
    "\n",
    "p1_copy = p1.copy()\n",
    "p2_copy = p2.copy()\n",
    "result = []\n",
    "while len(p1_copy) >0 and len(p2_copy) >0:\n",
    "        post1 = p1_copy[0]\n",
    "        post2 = p2_copy[0]\n",
    "        if post1 == post2:\n",
    "            result.append(post1)\n",
    "            p2_copy.pop(0)\n",
    "            p1_copy.pop(0)\n",
    "        if post1 < post2:\n",
    "            p1_copy.pop(0)\n",
    "        if post1 > post2:\n",
    "            p2_copy.pop(0)\n",
    "print(result)\n",
    "        \n",
    "\n",
    "\n",
    "        "
   ]
  },
  {
   "cell_type": "code",
   "execution_count": 11,
   "metadata": {},
   "outputs": [
    {
     "name": "stdout",
     "output_type": "stream",
     "text": [
      "[55, 66]\n"
     ]
    }
   ],
   "source": [
    "print(p1_copy)"
   ]
  },
  {
   "cell_type": "code",
   "execution_count": 26,
   "metadata": {},
   "outputs": [
    {
     "name": "stdout",
     "output_type": "stream",
     "text": [
      "[1, 3, 44, 55, 66]\n"
     ]
    }
   ],
   "source": [
    "print(p1)"
   ]
  },
  {
   "cell_type": "code",
   "execution_count": 28,
   "metadata": {},
   "outputs": [
    {
     "name": "stdout",
     "output_type": "stream",
     "text": [
      "[66]\n"
     ]
    }
   ],
   "source": [
    "print(p1_copy)"
   ]
  },
  {
   "cell_type": "code",
   "execution_count": 41,
   "metadata": {},
   "outputs": [],
   "source": [
    "d = {\"a\":{\"1\", \"2\", \"6\", \"3\"}}"
   ]
  },
  {
   "cell_type": "code",
   "execution_count": 44,
   "metadata": {},
   "outputs": [],
   "source": [
    "for x in d.values():\n",
    "    x = sorted(x)"
   ]
  },
  {
   "cell_type": "code",
   "execution_count": 45,
   "metadata": {},
   "outputs": [
    {
     "data": {
      "text/plain": [
       "{'a': {'1', '2', '3', '6'}}"
      ]
     },
     "execution_count": 45,
     "metadata": {},
     "output_type": "execute_result"
    }
   ],
   "source": [
    "d"
   ]
  },
  {
   "cell_type": "code",
   "execution_count": 51,
   "metadata": {},
   "outputs": [
    {
     "name": "stdout",
     "output_type": "stream",
     "text": [
      "[1, 2, 3, 4]\n"
     ]
    }
   ],
   "source": [
    "def argsFunc(*my_args):\n",
    "    result = list(my_args)\n",
    "    print(result)\n",
    "    \n",
    "argsFunc(1,2,3,4)"
   ]
  },
  {
   "cell_type": "code",
   "execution_count": 54,
   "metadata": {},
   "outputs": [
    {
     "name": "stdout",
     "output_type": "stream",
     "text": [
      "final list -  ['Geeks', 'for', 'geeks']\n"
     ]
    }
   ],
   "source": [
    "list1 = ['geeks', 'for', 'Geeks'] \n",
    "list2 = [3, 2, 1] \n",
    "zipped = list(zip(list1, list2))\n",
    "res = sorted(zipped, key = lambda x: x[1]) \n",
    "print(\"final list - \", [x[0] for x in res])"
   ]
  },
  {
   "cell_type": "code",
   "execution_count": 58,
   "metadata": {},
   "outputs": [
    {
     "data": {
      "text/plain": [
       "2"
      ]
     },
     "execution_count": 58,
     "metadata": {},
     "output_type": "execute_result"
    }
   ],
   "source": [
    "import math\n",
    "\n",
    "int(math.sqrt(8))"
   ]
  },
  {
   "cell_type": "code",
   "execution_count": 70,
   "metadata": {},
   "outputs": [
    {
     "name": "stdout",
     "output_type": "stream",
     "text": [
      "[\"well , in sh … school … none of the other kids really liked me . i was always the last one picked for everything . it' s too bad that we didn' t go to the same school . hal , i think you' re ready for this . – do i have a son ? – no . you make me laugh . it stretches . it' s for you . hey , what' s the t stand for ? titan . “ titan ” ?\", \"none of the other kids really liked me . i was always last one picked for everything . hmm , it' s to bad that we didn' t go to the same school . hal , i think you' re ready for this . do i have a son ? no , hal , you make me laugh . it stretches , it' s for you . hey , what' s the ' t ' stand for ? titan . tighten ?\", \"well , he was never really my type . really ? ok , now you tell me something . something you' ve never told anyone . well , in sh ... school ... ... none of the other kids really liked me . i was always the last one picked for everything . it' s too bad that we didn' t go to the same school . hal , i think you' re ready for this . - do i have a son ? - no .\"]\n"
     ]
    }
   ],
   "source": [
    "def find_corpus(file, line_numbers):\n",
    "    corpus = []\n",
    "    for line_number in line_numbers:\n",
    "        doc = linecache.getline(file, line_number).strip()\n",
    "        corpus.append(doc.lower())\n",
    "    return corpus\n",
    "\n",
    "print(find_corpus('movies.txt', [72, 224, 385]))\n",
    "    "
   ]
  },
  {
   "cell_type": "code",
   "execution_count": null,
   "metadata": {},
   "outputs": [],
   "source": []
  }
 ],
 "metadata": {
  "kernelspec": {
   "display_name": "Python 3",
   "language": "python",
   "name": "python3"
  },
  "language_info": {
   "codemirror_mode": {
    "name": "ipython",
    "version": 3
   },
   "file_extension": ".py",
   "mimetype": "text/x-python",
   "name": "python",
   "nbconvert_exporter": "python",
   "pygments_lexer": "ipython3",
   "version": "3.7.3"
  }
 },
 "nbformat": 4,
 "nbformat_minor": 4
}
